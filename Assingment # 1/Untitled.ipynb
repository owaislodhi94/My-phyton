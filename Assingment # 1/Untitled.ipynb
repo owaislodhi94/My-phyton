{
 "cells": [
  {
   "cell_type": "code",
   "execution_count": 3,
   "id": "7fff8fd2",
   "metadata": {},
   "outputs": [
    {
     "ename": "NameError",
     "evalue": "name 'Sherry' is not defined",
     "output_type": "error",
     "traceback": [
      "\u001b[1;31m---------------------------------------------------------------------------\u001b[0m",
      "\u001b[1;31mNameError\u001b[0m                                 Traceback (most recent call last)",
      "\u001b[1;32m<ipython-input-3-c04e2aef4dbe>\u001b[0m in \u001b[0;36m<module>\u001b[1;34m\u001b[0m\n\u001b[1;32m----> 1\u001b[1;33m \u001b[0mname0\u001b[0m \u001b[1;33m=\u001b[0m \u001b[0mSherry\u001b[0m\u001b[1;33m;\u001b[0m\u001b[1;33m\u001b[0m\u001b[1;33m\u001b[0m\u001b[0m\n\u001b[0m\u001b[0;32m      2\u001b[0m \u001b[0mname1\u001b[0m \u001b[1;33m=\u001b[0m \u001b[0mDanish\u001b[0m\u001b[1;33m;\u001b[0m\u001b[1;33m\u001b[0m\u001b[1;33m\u001b[0m\u001b[0m\n\u001b[0;32m      3\u001b[0m \u001b[0mname2\u001b[0m \u001b[1;33m=\u001b[0m \u001b[0mTalha\u001b[0m\u001b[1;33m;\u001b[0m\u001b[1;33m\u001b[0m\u001b[1;33m\u001b[0m\u001b[0m\n\u001b[0;32m      4\u001b[0m \u001b[0mname3\u001b[0m \u001b[1;33m=\u001b[0m \u001b[0mHamza\u001b[0m\u001b[1;33m;\u001b[0m\u001b[1;33m\u001b[0m\u001b[1;33m\u001b[0m\u001b[0m\n\u001b[0;32m      5\u001b[0m \u001b[0mname4\u001b[0m \u001b[1;33m=\u001b[0m \u001b[0mQadeer\u001b[0m\u001b[1;33m;\u001b[0m\u001b[1;33m\u001b[0m\u001b[1;33m\u001b[0m\u001b[0m\n",
      "\u001b[1;31mNameError\u001b[0m: name 'Sherry' is not defined"
     ]
    }
   ],
   "source": [
    "name0 = Sherry;\n",
    "name1 = Danish;\n",
    "name2 = Talha;\n",
    "name3 = Hamza;\n",
    "name4 = Qadeer;\n",
    "name5 = Ali;\n",
    "print(name1+\",\"+name2+\",\"+name3+\",\"+name4+\",\"+name5+\",\"+name6)"
   ]
  },
  {
   "cell_type": "code",
   "execution_count": null,
   "id": "8d701450",
   "metadata": {},
   "outputs": [],
   "source": []
  }
 ],
 "metadata": {
  "kernelspec": {
   "display_name": "Python 3",
   "language": "python",
   "name": "python3"
  }
 },
 "nbformat": 4,
 "nbformat_minor": 5
}
